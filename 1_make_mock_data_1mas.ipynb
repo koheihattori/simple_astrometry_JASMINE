{
 "cells": [
  {
   "cell_type": "markdown",
   "metadata": {},
   "source": [
    "# Simple Astrometry Solver from scratch"
   ]
  },
  {
   "cell_type": "code",
   "execution_count": 3,
   "metadata": {},
   "outputs": [
    {
     "name": "stdout",
     "output_type": "stream",
     "text": [
      "Thu Feb  3 09:10:26 JST 2022\r\n"
     ]
    }
   ],
   "source": [
    "!date"
   ]
  },
  {
   "cell_type": "code",
   "execution_count": 4,
   "metadata": {},
   "outputs": [],
   "source": [
    "_sigma_coord_mas = 1. # 1mas"
   ]
  },
  {
   "cell_type": "code",
   "execution_count": 5,
   "metadata": {},
   "outputs": [],
   "source": [
    "# ------------\n",
    "# system package\n",
    "#\n",
    "import sys\n",
    "import os\n",
    "# ------------\n",
    "# time package\n",
    "#\n",
    "import datetime, time\n",
    "#\n",
    "# ------------\n",
    "# optmization package\n",
    "#\n",
    "from scipy.optimize import minimize\n",
    "#import constrNMPy as cNM\n",
    "#\n",
    "# ------------\n",
    "# MCMC package\n",
    "#\n",
    "import emcee, corner\n",
    "## ------------\n",
    "# basic package\n",
    "#\n",
    "#import numpy as np\n",
    "import numpy\n",
    "#from scipy import stats        \n",
    "#from scipy.special import erf  \n",
    "from scipy.interpolate import interp1d\n",
    "#\n",
    "# ------------\n",
    "# time package\n",
    "#\n",
    "import datetime, time\n",
    "#\n",
    "# ------------\n",
    "from matplotlib import pyplot\n",
    "pyplot.rcParams['savefig.facecolor']='w'\n",
    "pyplot.rcParams['ps.useafm'] = True\n",
    "pyplot.rcParams['pdf.use14corefonts'] = True\n",
    "pyplot.rcParams['text.usetex'] = True\n",
    "\n",
    "# ------------\n",
    "# astronomical package (astropy)\n",
    "#\n",
    "from astropy import table\n",
    "from astropy.table import Table \n",
    "from astropy.table import Column\n",
    "from astropy.io import fits\n",
    "\n",
    "from astropy.coordinates import SkyCoord  # High-level coordinates\n",
    "from astropy.coordinates import ICRS, Galactic, FK4, FK5  # Low-level frames\n",
    "from astropy.coordinates import Angle, Latitude, Longitude  # Angles\n",
    "import astropy.coordinates as coord\n",
    "import astropy.units as u\n",
    "#\n",
    "# ------------\n",
    "# astronomical package (PyGaia)\n",
    "#\n",
    "#from pygaia.astrometry.coordinates import CoordinateTransformation, Transformations\n",
    "#from pygaia.astrometry.vectorastrometry import cartesianToSpherical, astrometryToPhaseSpace, phaseSpaceToAstrometry\n",
    "#from pygaia.errors.astrometric import properMotionErrorSkyAvg, properMotionMinError, properMotionMaxError\n",
    "#from pygaia.photometry.utils import vminiFromSpt, vabsFromSpt\n",
    "#from pygaia.photometry.transformations import gminvFromVmini\n",
    "# ------------\n",
    "# astronomical package (Kohei Hattori) -- not cleaned yet.\n",
    "#\n",
    "#from useful_functions import *\n",
    "#\n",
    "# ------------\n",
    "# astronomical package (agama)\n",
    "#\n",
    "#import agama\n",
    "#_k = 4.74047\n",
    "#Gyr_per_unit_time = 0.977793 # one unit time = 0.977793 Gyr\n",
    "#agama.setUnits( mass=1., length=1, velocity=1)\n",
    "#\n",
    "\n",
    "\n"
   ]
  },
  {
   "cell_type": "code",
   "execution_count": 6,
   "metadata": {},
   "outputs": [],
   "source": [
    "\n",
    "#------\n",
    "# sun\n",
    "#\n",
    "_xGC_sun_kpc =  -8.178 #8.\n",
    "_yGC_sun_kpc =   0.\n",
    "_zGC_sun_kpc =   0.\n",
    "_vxGC_sun    =  11.1\n",
    "_vyGC_sun    = 247.30  #220.\n",
    "_vzGC_sun    =   7.25\n",
    "G_Msun_kpcm1 = 4.30092e-06\n",
    "\n",
    "#------\n",
    "# Galactocentric coordinate syystem\n",
    "#\n",
    "from astropy.coordinates import SphericalCosLatDifferential\n",
    "from astropy.coordinates import CartesianRepresentation, CartesianDifferential\n",
    "\n",
    "v_sun = [_vxGC_sun, _vyGC_sun, _vzGC_sun] * (u.km / u.s)  # [vx, vy, vz]\n",
    "gc_frame = coord.Galactocentric(\n",
    "    galcen_distance=numpy.fabs(_xGC_sun_kpc)*u.kpc,\n",
    "    galcen_v_sun=v_sun,\n",
    "    z_sun=0*u.pc)\n",
    "\n",
    "#representation_type=CartesianRepresentation,##\n",
    "#differential_type=SphericalCosLatDifferential)##\n",
    "\n",
    "\n"
   ]
  },
  {
   "cell_type": "code",
   "execution_count": 7,
   "metadata": {},
   "outputs": [],
   "source": [
    "list_astropy_frame = \\\n",
    "['altaz', 'barycentricmeanecliptic', 'barycentrictrueecliptic', 'cirs', 'custombarycentricecliptic', 'fk4', 'fk4noeterms', 'fk5', 'galactic', 'galacticlsr', 'galactocentric', 'gcrs', 'geocentricmeanecliptic', 'geocentrictrueecliptic', 'hcrs', 'heliocentriceclipticiau76', 'heliocentricmeanecliptic', 'heliocentrictrueecliptic', 'icrs', 'itrs', 'lsr', 'lsrd', 'lsrk', 'precessedgeocentric', 'supergalactic', 'teme']"
   ]
  },
  {
   "cell_type": "code",
   "execution_count": 8,
   "metadata": {},
   "outputs": [],
   "source": [
    "# obs >> Galactocentric Cartesian\n",
    "def get_6Dgalcen_from_astrometry(phi, theta, plx, pmphi, pmtheta, radial_velocity, frame='icrs'):\n",
    "    \n",
    "    assert frame in list_astropy_frame\n",
    "    # icrs\n",
    "    # galactic\n",
    "    # heliocentrictrueecliptic\n",
    "    \n",
    "    if (frame=='icrs'):\n",
    "        c = SkyCoord(phi *u.deg, \n",
    "                     theta*u.deg, \n",
    "                     (1./plx)*u.kpc, \n",
    "                     pm_ra_cosdec=pmphi   *u.mas/u.yr, \n",
    "                     pm_dec      =pmtheta *u.mas/u.yr, \n",
    "                     radial_velocity=radial_velocity*u.km/u.s,\n",
    "                     frame=frame)\n",
    "    elif (frame=='galactic'):\n",
    "        c = SkyCoord(phi     *u.deg, \n",
    "                     theta   *u.deg, \n",
    "                     (1./plx)*u.kpc,\n",
    "                     pm_l_cosb = pmphi   *u.mas/u.yr, \n",
    "                     pm_b      = pmtheta *u.mas/u.yr, \n",
    "                     radial_velocity = radial_velocity*u.km/u.s,\n",
    "                     frame=frame)\n",
    "    \n",
    "    elif (frame=='heliocentrictrueecliptic'):\n",
    "        c = SkyCoord(phi     *u.deg, \n",
    "                     theta   *u.deg, \n",
    "                     (1./plx)*u.kpc,\n",
    "                     pm_lon_coslat = pmphi   *u.mas/u.yr, \n",
    "                     pm_lat        = pmtheta *u.mas/u.yr, \n",
    "                     radial_velocity = radial_velocity*u.km/u.s,\n",
    "                     frame=frame)\n",
    "    else:\n",
    "        print('Neither of icrs / galactic / heliocentrictrueecliptic ')\n",
    "        return None\n",
    "    \n",
    "    gc = c.transform_to(gc_frame)\n",
    "\n",
    "    return gc"
   ]
  },
  {
   "cell_type": "code",
   "execution_count": 9,
   "metadata": {},
   "outputs": [],
   "source": [
    "# Galactocentric cartesian >> obs\n",
    "# obs >> Galactocentric Cartesian\n",
    "def get_astrometry_from_6Dgalcen(gc, frame='icrs'):\n",
    "    \n",
    "    # x,y,z,v_x,v_y,v_z\n",
    "    assert frame in list_astropy_frame #.append('gc_frame')\n",
    "    \"\"\"\n",
    "    gc = coord.SkyCoord(x  =  x *u.kpc, \n",
    "                        y  =  y *u.kpc,\n",
    "                        z  =  z *u.kpc, \n",
    "                        v_x=v_x *u.km/u.s, \n",
    "                        v_y=v_y *u.km/u.s, \n",
    "                        v_z=v_z *u.km/u.s, \n",
    "                        frame=gc_frame ) \n",
    "    \"\"\"\n",
    "    if (frame=='icrs'):\n",
    "        c = gc.transform_to(coord.ICRS) \n",
    "    elif (frame=='galactic'):\n",
    "        c = gc.transform_to(coord.Galactic)\n",
    "    elif (frame=='heliocentrictrueecliptic'):\n",
    "        c = gc.transform_to(coord.HeliocentricTrueEcliptic)\n",
    "    else:\n",
    "        print('Target coordinate is neither of icrs / galactic / heliocentrictrueecliptic ')\n",
    "        return None\n",
    "    \n",
    "    return c"
   ]
  },
  {
   "cell_type": "code",
   "execution_count": 10,
   "metadata": {},
   "outputs": [],
   "source": [
    "# Galactocentric Cartesian >> gc object\n",
    "def get_gcframe_from_6Dgalcen(x,y,z,v_x,v_y,v_z):\n",
    "    gc = coord.SkyCoord(x  =  x *u.kpc, \n",
    "                        y  =  y *u.kpc,\n",
    "                        z  =  z *u.kpc, \n",
    "                        v_x=v_x *u.km/u.s, \n",
    "                        v_y=v_y *u.km/u.s, \n",
    "                        v_z=v_z *u.km/u.s, \n",
    "                        frame=gc_frame ) \n",
    "    \n",
    "    return gc"
   ]
  },
  {
   "cell_type": "markdown",
   "metadata": {},
   "source": [
    "## check motion of an object at rest at Galactic center (something like Sgr A*)"
   ]
  },
  {
   "cell_type": "code",
   "execution_count": 11,
   "metadata": {},
   "outputs": [],
   "source": [
    "gc = get_gcframe_from_6Dgalcen(0.,0.,0, 0, 0, 0)"
   ]
  },
  {
   "cell_type": "code",
   "execution_count": 12,
   "metadata": {},
   "outputs": [
    {
     "name": "stdout",
     "output_type": "stream",
     "text": [
      "<SkyCoord (ICRS): (ra, dec, distance) in (deg, deg, kpc)\n",
      "    (266.4051, -28.936175, 8.178)\n",
      " (pm_ra_cosdec, pm_dec, radial_velocity) in (mas / yr, mas / yr, km / s)\n",
      "    (-3.16405121, -5.54219719, -11.1)>\n"
     ]
    }
   ],
   "source": [
    "print(get_astrometry_from_6Dgalcen(gc, frame='icrs'))"
   ]
  },
  {
   "cell_type": "code",
   "execution_count": 13,
   "metadata": {},
   "outputs": [
    {
     "name": "stdout",
     "output_type": "stream",
     "text": [
      "<SkyCoord (Galactic): (l, b, distance) in (deg, deg, kpc)\n",
      "    (5.32967851e-05, -8.20090121e-05, 8.178)\n",
      " (pm_l_cosb, pm_b, radial_velocity) in (mas / yr, mas / yr, km / s)\n",
      "    (-6.3790438, -0.18700262, -11.1)>\n"
     ]
    }
   ],
   "source": [
    "print(get_astrometry_from_6Dgalcen(gc, frame='galactic'))"
   ]
  },
  {
   "cell_type": "code",
   "execution_count": 14,
   "metadata": {},
   "outputs": [
    {
     "name": "stdout",
     "output_type": "stream",
     "text": [
      "<SkyCoord (HeliocentricTrueEcliptic: equinox=J2000.000, obstime=J2000.000): (lon, lat, distance) in (deg, deg, kpc)\n",
      "    (266.83574791, -5.53632285, 8.178)\n",
      " (pm_lon_coslat, pm_lat, radial_velocity) in (mas / yr, mas / yr, km / s)\n",
      "    (-3.02418089, -5.61974196, -11.1)>\n"
     ]
    }
   ],
   "source": [
    "print(get_astrometry_from_6Dgalcen(gc, frame='heliocentrictrueecliptic'))"
   ]
  },
  {
   "cell_type": "markdown",
   "metadata": {},
   "source": [
    "## Astrometry of a bulge star"
   ]
  },
  {
   "cell_type": "code",
   "execution_count": 15,
   "metadata": {},
   "outputs": [],
   "source": [
    "_x, _y, _z, _v_x, _v_y, _v_z = 0.05, 0.05, 0.05, 100, 200, 50 \n",
    "gc_bulge = get_gcframe_from_6Dgalcen(_x, _y, _z, _v_x, _v_y, _v_z)\n"
   ]
  },
  {
   "cell_type": "code",
   "execution_count": 16,
   "metadata": {},
   "outputs": [],
   "source": [
    "HelTrueEcl_coord_bulge = get_astrometry_from_6Dgalcen(gc_bulge, frame='heliocentrictrueecliptic')"
   ]
  },
  {
   "cell_type": "code",
   "execution_count": 17,
   "metadata": {},
   "outputs": [
    {
     "name": "stdout",
     "output_type": "stream",
     "text": [
      "<SkyCoord (HeliocentricTrueEcliptic: equinox=J2000.000, obstime=J2000.000): (lon, lat, distance) in (deg, deg, kpc)\n",
      "    (266.70752514, -5.06078126, 8.22830383)\n",
      " (pm_lon_coslat, pm_lat, radial_velocity) in (mas / yr, mas / yr, km / s)\n",
      "    (-1.55019211, -0.52170765, 88.86906885)>\n"
     ]
    }
   ],
   "source": [
    "print(HelTrueEcl_coord_bulge)"
   ]
  },
  {
   "cell_type": "code",
   "execution_count": 18,
   "metadata": {},
   "outputs": [
    {
     "name": "stdout",
     "output_type": "stream",
     "text": [
      "HeliocentricTrueEcliptic\n",
      "lon   266.7075251446382\n",
      "lat   -5.060781261106182\n",
      "dist  8.228303834919267\n",
      "pmlon -1.5501921132369663\n",
      "pmlat -0.5217076453629648\n",
      "HRV   88.86906884665565\n"
     ]
    }
   ],
   "source": [
    "print('HeliocentricTrueEcliptic')\n",
    "print('lon  ', HelTrueEcl_coord_bulge.lon / u.deg)\n",
    "print('lat  ', HelTrueEcl_coord_bulge.lat / u.deg)\n",
    "print('dist ', HelTrueEcl_coord_bulge.distance / u.kpc)\n",
    "print('pmlon', HelTrueEcl_coord_bulge.pm_lon_coslat / (u.mas/u.yr))\n",
    "print('pmlat', HelTrueEcl_coord_bulge.pm_lat  / (u.mas/u.yr))\n",
    "print('HRV  ', HelTrueEcl_coord_bulge.radial_velocity / (u.km / u.s))"
   ]
  },
  {
   "cell_type": "markdown",
   "metadata": {},
   "source": [
    "## Motion of the bulge star"
   ]
  },
  {
   "cell_type": "code",
   "execution_count": 19,
   "metadata": {},
   "outputs": [],
   "source": [
    "list_time   = numpy.linspace(-1.5,1.5,8001) * u.yr            ## year\n",
    "list_LonSun = 2.*numpy.pi * (list_time/u.yr) * u.radian ## radian"
   ]
  },
  {
   "cell_type": "code",
   "execution_count": 20,
   "metadata": {
    "scrolled": true
   },
   "outputs": [
    {
     "name": "stdout",
     "output_type": "stream",
     "text": [
      "[-1.5      -1.499625 -1.49925  ...  1.49925   1.499625  1.5     ] yr\n"
     ]
    }
   ],
   "source": [
    "print(list_time)"
   ]
  },
  {
   "cell_type": "code",
   "execution_count": 25,
   "metadata": {},
   "outputs": [
    {
     "name": "stdout",
     "output_type": "stream",
     "text": [
      "[-12.56637061 -12.50353876 -12.44070691 -12.37787506 -12.3150432\n",
      " -12.25221135 -12.1893795  -12.12654764 -12.06371579 -12.00088394\n",
      " -11.93805208 -11.87522023 -11.81238838 -11.74955652 -11.68672467\n",
      " -11.62389282 -11.56106097 -11.49822911 -11.43539726 -11.37256541\n",
      " -11.30973355 -11.2469017  -11.18406985 -11.12123799 -11.05840614\n",
      " -10.99557429 -10.93274243 -10.86991058 -10.80707873 -10.74424688\n",
      " -10.68141502 -10.61858317 -10.55575132 -10.49291946 -10.43008761\n",
      " -10.36725576 -10.3044239  -10.24159205 -10.1787602  -10.11592834\n",
      " -10.05309649  -9.99026464  -9.92743279  -9.86460093  -9.80176908\n",
      "  -9.73893723  -9.67610537  -9.61327352  -9.55044167  -9.48760981\n",
      "  -9.42477796  -9.36194611  -9.29911425  -9.2362824   -9.17345055\n",
      "  -9.1106187   -9.04778684  -8.98495499  -8.92212314  -8.85929128\n",
      "  -8.79645943  -8.73362758  -8.67079572  -8.60796387  -8.54513202\n",
      "  -8.48230016  -8.41946831  -8.35663646  -8.29380461  -8.23097275\n",
      "  -8.1681409   -8.10530905  -8.04247719  -7.97964534  -7.91681349\n",
      "  -7.85398163  -7.79114978  -7.72831793  -7.66548607  -7.60265422\n",
      "  -7.53982237  -7.47699052  -7.41415866  -7.35132681  -7.28849496\n",
      "  -7.2256631   -7.16283125  -7.0999994   -7.03716754  -6.97433569\n",
      "  -6.91150384  -6.84867198  -6.78584013  -6.72300828  -6.66017643\n",
      "  -6.59734457  -6.53451272  -6.47168087  -6.40884901  -6.34601716\n",
      "  -6.28318531  -6.22035345  -6.1575216   -6.09468975  -6.03185789\n",
      "  -5.96902604  -5.90619419  -5.84336234  -5.78053048  -5.71769863\n",
      "  -5.65486678  -5.59203492  -5.52920307  -5.46637122  -5.40353936\n",
      "  -5.34070751  -5.27787566  -5.2150438   -5.15221195  -5.0893801\n",
      "  -5.02654825  -4.96371639  -4.90088454  -4.83805269  -4.77522083\n",
      "  -4.71238898  -4.64955713  -4.58672527  -4.52389342  -4.46106157\n",
      "  -4.39822972  -4.33539786  -4.27256601  -4.20973416  -4.1469023\n",
      "  -4.08407045  -4.0212386   -3.95840674  -3.89557489  -3.83274304\n",
      "  -3.76991118  -3.70707933  -3.64424748  -3.58141563  -3.51858377\n",
      "  -3.45575192  -3.39292007  -3.33008821  -3.26725636  -3.20442451\n",
      "  -3.14159265  -3.0787608   -3.01592895  -2.95309709  -2.89026524\n",
      "  -2.82743339  -2.76460154  -2.70176968  -2.63893783  -2.57610598\n",
      "  -2.51327412  -2.45044227  -2.38761042  -2.32477856  -2.26194671\n",
      "  -2.19911486  -2.136283    -2.07345115  -2.0106193   -1.94778745\n",
      "  -1.88495559  -1.82212374  -1.75929189  -1.69646003  -1.63362818\n",
      "  -1.57079633  -1.50796447  -1.44513262  -1.38230077  -1.31946891\n",
      "  -1.25663706  -1.19380521  -1.13097336  -1.0681415   -1.00530965\n",
      "  -0.9424778   -0.87964594  -0.81681409  -0.75398224  -0.69115038\n",
      "  -0.62831853  -0.56548668  -0.50265482  -0.43982297  -0.37699112\n",
      "  -0.31415927  -0.25132741  -0.18849556  -0.12566371  -0.06283185\n",
      "   0.           0.06283185   0.12566371   0.18849556   0.25132741\n",
      "   0.31415927   0.37699112   0.43982297   0.50265482   0.56548668\n",
      "   0.62831853   0.69115038   0.75398224   0.81681409   0.87964594\n",
      "   0.9424778    1.00530965   1.0681415    1.13097336   1.19380521\n",
      "   1.25663706   1.31946891   1.38230077   1.44513262   1.50796447\n",
      "   1.57079633   1.63362818   1.69646003   1.75929189   1.82212374\n",
      "   1.88495559   1.94778745   2.0106193    2.07345115   2.136283\n",
      "   2.19911486   2.26194671   2.32477856   2.38761042   2.45044227\n",
      "   2.51327412   2.57610598   2.63893783   2.70176968   2.76460154\n",
      "   2.82743339   2.89026524   2.95309709   3.01592895   3.0787608\n",
      "   3.14159265   3.20442451   3.26725636   3.33008821   3.39292007\n",
      "   3.45575192   3.51858377   3.58141563   3.64424748   3.70707933\n",
      "   3.76991118   3.83274304   3.89557489   3.95840674   4.0212386\n",
      "   4.08407045   4.1469023    4.20973416   4.27256601   4.33539786\n",
      "   4.39822972   4.46106157   4.52389342   4.58672527   4.64955713\n",
      "   4.71238898   4.77522083   4.83805269   4.90088454   4.96371639\n",
      "   5.02654825   5.0893801    5.15221195   5.2150438    5.27787566\n",
      "   5.34070751   5.40353936   5.46637122   5.52920307   5.59203492\n",
      "   5.65486678   5.71769863   5.78053048   5.84336234   5.90619419\n",
      "   5.96902604   6.03185789   6.09468975   6.1575216    6.22035345\n",
      "   6.28318531   6.34601716   6.40884901   6.47168087   6.53451272\n",
      "   6.59734457   6.66017643   6.72300828   6.78584013   6.84867198\n",
      "   6.91150384   6.97433569   7.03716754   7.0999994    7.16283125\n",
      "   7.2256631    7.28849496   7.35132681   7.41415866   7.47699052\n",
      "   7.53982237   7.60265422   7.66548607   7.72831793   7.79114978\n",
      "   7.85398163   7.91681349   7.97964534   8.04247719   8.10530905\n",
      "   8.1681409    8.23097275   8.29380461   8.35663646   8.41946831\n",
      "   8.48230016   8.54513202   8.60796387   8.67079572   8.73362758\n",
      "   8.79645943   8.85929128   8.92212314   8.98495499   9.04778684\n",
      "   9.1106187    9.17345055   9.2362824    9.29911425   9.36194611\n",
      "   9.42477796   9.48760981   9.55044167   9.61327352   9.67610537\n",
      "   9.73893723   9.80176908   9.86460093   9.92743279   9.99026464\n",
      "  10.05309649  10.11592834  10.1787602   10.24159205  10.3044239\n",
      "  10.36725576  10.43008761  10.49291946  10.55575132  10.61858317\n",
      "  10.68141502  10.74424688  10.80707873  10.86991058  10.93274243\n",
      "  10.99557429  11.05840614  11.12123799  11.18406985  11.2469017\n",
      "  11.30973355  11.37256541  11.43539726  11.49822911  11.56106097\n",
      "  11.62389282  11.68672467  11.74955652  11.81238838  11.87522023\n",
      "  11.93805208  12.00088394  12.06371579  12.12654764  12.1893795\n",
      "  12.25221135  12.3150432   12.37787506  12.44070691  12.50353876\n",
      "  12.56637061] rad\n"
     ]
    }
   ],
   "source": [
    "print(list_LonSun)"
   ]
  },
  {
   "cell_type": "code",
   "execution_count": 21,
   "metadata": {},
   "outputs": [],
   "source": [
    "list_HTE_lon = \\\n",
    "             HelTrueEcl_coord_bulge.lon + \\\n",
    "             HelTrueEcl_coord_bulge.pm_lon_coslat * list_time + \\\n",
    "(u.mas*u.kpc/HelTrueEcl_coord_bulge.distance) \\\n",
    "* numpy.sin(list_LonSun - HelTrueEcl_coord_bulge.lon)\n",
    "\n",
    "list_HTE_lat = \\\n",
    "             HelTrueEcl_coord_bulge.lat + \\\n",
    "             HelTrueEcl_coord_bulge.pm_lat * list_time - \\\n",
    "(u.mas*u.kpc/HelTrueEcl_coord_bulge.distance) \\\n",
    "* numpy.cos(list_LonSun - HelTrueEcl_coord_bulge.lon) \\\n",
    "* numpy.sin(              HelTrueEcl_coord_bulge.lat) \n",
    "\n",
    "\n"
   ]
  },
  {
   "cell_type": "code",
   "execution_count": 22,
   "metadata": {},
   "outputs": [
    {
     "data": {
      "image/png": "[encoded data removed]",
      "text/plain": [
       "<Figure size 432x288 with 1 Axes>"
      ]
     },
     "metadata": {
      "needs_background": "light"
     },
     "output_type": "display_data"
    }
   ],
   "source": [
    "pyplot.plot(list_HTE_lon/u.deg, list_HTE_lat/u.deg)\n",
    "pyplot.xlabel(r'$\\lambda$', fontsize=20)\n",
    "pyplot.ylabel(r'$\\beta$',   fontsize=20)\n",
    "pyplot.title('HeliocentricTrueEcliptic')\n",
    "pyplot.show()"
   ]
  },
  {
   "cell_type": "code",
   "execution_count": 23,
   "metadata": {},
   "outputs": [
    {
     "data": {
      "image/png": "[encoded data removed]",
      "text/plain": [
       "<Figure size 432x288 with 1 Axes>"
      ]
     },
     "metadata": {
      "needs_background": "light"
     },
     "output_type": "display_data"
    }
   ],
   "source": [
    "integer_lon = numpy.min(numpy.floor(list_HTE_lon/u.deg))\n",
    "integer_lat = numpy.min(numpy.floor(list_HTE_lat/u.deg))\n",
    "\n",
    "pyplot.plot(list_HTE_lon/u.deg - integer_lon, \n",
    "            list_HTE_lat/u.deg - integer_lat)\n",
    "pyplot.xlabel(r'$\\lambda - (%d)$' % (integer_lon), fontsize=20)\n",
    "pyplot.ylabel(r'$\\beta   - (%d)$' % (integer_lat), fontsize=20)\n",
    "pyplot.title('HeliocentricTrueEcliptic')\n",
    "\n",
    "pyplot.show()\n",
    "\n"
   ]
  },
  {
   "cell_type": "code",
   "execution_count": 25,
   "metadata": {},
   "outputs": [
    {
     "data": {
      "image/png": "[encoded data removed]",
      "text/plain": [
       "<Figure size 432x288 with 1 Axes>"
      ]
     },
     "metadata": {
      "needs_background": "light"
     },
     "output_type": "display_data"
    },
    {
     "data": {
      "image/png": "[encoded data removed]",
      "text/plain": [
       "<Figure size 432x288 with 1 Axes>"
      ]
     },
     "metadata": {
      "needs_background": "light"
     },
     "output_type": "display_data"
    }
   ],
   "source": [
    "#integer_lon = numpy.min(numpy.floor(list_HTE_lon/u.mas))\n",
    "#integer_lat = numpy.min(numpy.floor(list_HTE_lat/u.mas))\n",
    "\n",
    "pyplot.plot(list_HTE_lon/(u.deg/3600/1000), \n",
    "            list_HTE_lat/(u.deg/3600/1000))\n",
    "pyplot.xlabel(r'$\\lambda/\\mathrm{mas}$', fontsize=20)\n",
    "pyplot.ylabel(r'$\\beta  /\\mathrm{mas}$', fontsize=20)\n",
    "pyplot.title('HeliocentricTrueEcliptic')\n",
    "\n",
    "pyplot.show()\n",
    "\n",
    "\n",
    "integer_lon = numpy.min(numpy.floor(list_HTE_lon/(u.deg/3600/1000)))\n",
    "integer_lat = numpy.min(numpy.floor(list_HTE_lat/(u.deg/3600/1000)))\n",
    "\n",
    "pyplot.plot(list_HTE_lon/(u.deg/3600/1000) - integer_lon, \n",
    "            list_HTE_lat/(u.deg/3600/1000) - integer_lat)\n",
    "pyplot.xlabel(r'$\\lambda/\\mathrm{mas} - (%d)$' % (integer_lon), fontsize=20)\n",
    "pyplot.ylabel(r'$\\beta  /\\mathrm{mas} - (%d)$' % (integer_lat), fontsize=20)\n",
    "pyplot.title('HeliocentricTrueEcliptic')\n",
    "\n",
    "pyplot.show()\n",
    "\n",
    "\n"
   ]
  },
  {
   "cell_type": "code",
   "execution_count": 26,
   "metadata": {},
   "outputs": [],
   "source": [
    "\n",
    "# save \n",
    "data_  = [ list_time, list_HTE_lon, list_HTE_lat ]\n",
    "names_ = ('t', 'lambda_true', 'beta_true')\n",
    "\n",
    "dtype_ = ( 'f8', 'f8', 'f8' )\n",
    "\n",
    "table1 = Table(data_, \n",
    "               names=names_, \n",
    "               dtype=dtype_)\n",
    "\n",
    "#table1.write('table1.fits', overwrite=True)\n",
    "\n"
   ]
  },
  {
   "cell_type": "code",
   "execution_count": 27,
   "metadata": {},
   "outputs": [
    {
     "data": {
      "text/html": [
       "<i>Table length=8001</i>\n",
       "<table id=\"table4905852432\" class=\"table-striped table-bordered table-condensed\">\n",
       "<thead><tr><th>t</th><th>lambda_true</th><th>beta_true</th></tr></thead>\n",
       "<thead><tr><th>yr</th><th>deg</th><th>deg</th></tr></thead>\n",
       "<thead><tr><th>float64</th><th>float64</th><th>float64</th></tr></thead>\n",
       "<tr><td>-1.5</td><td>266.7075257568485</td><td>-5.060781043556965</td></tr>\n",
       "<tr><td>-1.499625</td><td>266.7075257566917</td><td>-5.060781043604305</td></tr>\n",
       "<tr><td>-1.49925</td><td>266.70752575653506</td><td>-5.060781043651645</td></tr>\n",
       "<tr><td>-1.498875</td><td>266.70752575637863</td><td>-5.060781043698988</td></tr>\n",
       "<tr><td>-1.4985</td><td>266.70752575622237</td><td>-5.0607810437463305</td></tr>\n",
       "<tr><td>-1.498125</td><td>266.70752575606633</td><td>-5.060781043793675</td></tr>\n",
       "<tr><td>-1.49775</td><td>266.7075257559104</td><td>-5.06078104384102</td></tr>\n",
       "<tr><td>-1.497375</td><td>266.7075257557547</td><td>-5.060781043888367</td></tr>\n",
       "<tr><td>-1.497</td><td>266.7075257555992</td><td>-5.060781043935714</td></tr>\n",
       "<tr><td>...</td><td>...</td><td>...</td></tr>\n",
       "<tr><td>1.4966249999999999</td><td>266.7075244664415</td><td>-5.060781477887314</td></tr>\n",
       "<tr><td>1.4969999999999999</td><td>266.707524466283</td><td>-5.060781477934647</td></tr>\n",
       "<tr><td>1.497375</td><td>266.7075244661247</td><td>-5.06078147798198</td></tr>\n",
       "<tr><td>1.49775</td><td>266.70752446596657</td><td>-5.060781478029314</td></tr>\n",
       "<tr><td>1.498125</td><td>266.7075244658086</td><td>-5.060781478076649</td></tr>\n",
       "<tr><td>1.4985</td><td>266.7075244656509</td><td>-5.060781478123985</td></tr>\n",
       "<tr><td>1.498875</td><td>266.70752446549335</td><td>-5.060781478171321</td></tr>\n",
       "<tr><td>1.49925</td><td>266.70752446533595</td><td>-5.060781478218659</td></tr>\n",
       "<tr><td>1.499625</td><td>266.7075244651787</td><td>-5.060781478265996</td></tr>\n",
       "<tr><td>1.5</td><td>266.7075244650218</td><td>-5.060781478313336</td></tr>\n",
       "</table>"
      ],
      "text/plain": [
       "<Table length=8001>\n",
       "        t             lambda_true          beta_true     \n",
       "        yr                deg                 deg        \n",
       "     float64            float64             float64      \n",
       "------------------ ------------------ -------------------\n",
       "              -1.5  266.7075257568485  -5.060781043556965\n",
       "         -1.499625  266.7075257566917  -5.060781043604305\n",
       "          -1.49925 266.70752575653506  -5.060781043651645\n",
       "         -1.498875 266.70752575637863  -5.060781043698988\n",
       "           -1.4985 266.70752575622237 -5.0607810437463305\n",
       "         -1.498125 266.70752575606633  -5.060781043793675\n",
       "          -1.49775  266.7075257559104   -5.06078104384102\n",
       "         -1.497375  266.7075257557547  -5.060781043888367\n",
       "            -1.497  266.7075257555992  -5.060781043935714\n",
       "               ...                ...                 ...\n",
       "1.4966249999999999  266.7075244664415  -5.060781477887314\n",
       "1.4969999999999999   266.707524466283  -5.060781477934647\n",
       "          1.497375  266.7075244661247   -5.06078147798198\n",
       "           1.49775 266.70752446596657  -5.060781478029314\n",
       "          1.498125  266.7075244658086  -5.060781478076649\n",
       "            1.4985  266.7075244656509  -5.060781478123985\n",
       "          1.498875 266.70752446549335  -5.060781478171321\n",
       "           1.49925 266.70752446533595  -5.060781478218659\n",
       "          1.499625  266.7075244651787  -5.060781478265996\n",
       "               1.5  266.7075244650218  -5.060781478313336"
      ]
     },
     "execution_count": 27,
     "metadata": {},
     "output_type": "execute_result"
    }
   ],
   "source": [
    "table1"
   ]
  },
  {
   "cell_type": "code",
   "execution_count": 28,
   "metadata": {},
   "outputs": [],
   "source": [
    "\n",
    "\n",
    "_sigma_coord = _sigma_coord_mas/3600./1000.*u.deg\n",
    "\n",
    "\n",
    "numpy.random.seed(123)\n",
    "table1['lambda'] = table1['lambda_true'] + _sigma_coord*numpy.random.randn(len(list_HTE_lon))\n",
    "table1['beta']   = table1['beta_true']   + _sigma_coord*numpy.random.randn(len(list_HTE_lon))\n",
    "table1['lambda_error'] = _sigma_coord*numpy.ones(len(list_HTE_lon))\n",
    "table1['beta_error']   = _sigma_coord*numpy.ones(len(list_HTE_lon))\n",
    "\n",
    "\n",
    "table1.write('table1_sigma_coord_%d_uas.fits' % (int(_sigma_coord_mas*1000)), overwrite=True)\n",
    "\n"
   ]
  },
  {
   "cell_type": "code",
   "execution_count": 29,
   "metadata": {
    "scrolled": true
   },
   "outputs": [
    {
     "data": {
      "text/html": [
       "<i>Table length=8001</i>\n",
       "<table id=\"table4905852432\" class=\"table-striped table-bordered table-condensed\">\n",
       "<thead><tr><th>t</th><th>lambda_true</th><th>beta_true</th><th>lambda</th><th>beta</th><th>lambda_error</th><th>beta_error</th></tr></thead>\n",
       "<thead><tr><th>yr</th><th>deg</th><th>deg</th><th>deg</th><th>deg</th><th>deg</th><th>deg</th></tr></thead>\n",
       "<thead><tr><th>float64</th><th>float64</th><th>float64</th><th>float64</th><th>float64</th><th>float64</th><th>float64</th></tr></thead>\n",
       "<tr><td>-1.5</td><td>266.7075257568485</td><td>-5.060781043556965</td><td>266.70752545528444</td><td>-5.060780904345799</td><td>2.7777777777777776e-07</td><td>2.7777777777777776e-07</td></tr>\n",
       "<tr><td>-1.499625</td><td>266.7075257566917</td><td>-5.060781043604305</td><td>266.7075260337321</td><td>-5.060781005845457</td><td>2.7777777777777776e-07</td><td>2.7777777777777776e-07</td></tr>\n",
       "<tr><td>-1.49925</td><td>266.70752575653506</td><td>-5.060781043651645</td><td>266.7075258351402</td><td>-5.060780933370076</td><td>2.7777777777777776e-07</td><td>2.7777777777777776e-07</td></tr>\n",
       "<tr><td>-1.498875</td><td>266.70752575637863</td><td>-5.060781043698988</td><td>266.70752533796343</td><td>-5.06078111786198</td><td>2.7777777777777776e-07</td><td>2.7777777777777776e-07</td></tr>\n",
       "<tr><td>-1.4985</td><td>266.70752575622237</td><td>-5.0607810437463305</td><td>266.7075255955001</td><td>-5.060780770681373</td><td>2.7777777777777776e-07</td><td>2.7777777777777776e-07</td></tr>\n",
       "<tr><td>-1.498125</td><td>266.70752575606633</td><td>-5.060781043793675</td><td>266.7075262147987</td><td>-5.060780560396442</td><td>2.7777777777777776e-07</td><td>2.7777777777777776e-07</td></tr>\n",
       "<tr><td>-1.49775</td><td>266.7075257559104</td><td>-5.06078104384102</td><td>266.70752508183284</td><td>-5.060781478354822</td><td>2.7777777777777776e-07</td><td>2.7777777777777776e-07</td></tr>\n",
       "<tr><td>-1.497375</td><td>266.7075257557547</td><td>-5.060781043888367</td><td>266.70752563661233</td><td>-5.060781121596636</td><td>2.7777777777777776e-07</td><td>2.7777777777777776e-07</td></tr>\n",
       "<tr><td>-1.497</td><td>266.7075257555992</td><td>-5.060781043935714</td><td>266.70752610724816</td><td>-5.060780837558744</td><td>2.7777777777777776e-07</td><td>2.7777777777777776e-07</td></tr>\n",
       "<tr><td>...</td><td>...</td><td>...</td><td>...</td><td>...</td><td>...</td><td>...</td></tr>\n",
       "<tr><td>1.4966249999999999</td><td>266.7075244664415</td><td>-5.060781477887314</td><td>266.7075250649757</td><td>-5.060781709419491</td><td>2.7777777777777776e-07</td><td>2.7777777777777776e-07</td></tr>\n",
       "<tr><td>1.4969999999999999</td><td>266.707524466283</td><td>-5.060781477934647</td><td>266.7075247490822</td><td>-5.0607821542285585</td><td>2.7777777777777776e-07</td><td>2.7777777777777776e-07</td></tr>\n",
       "<tr><td>1.497375</td><td>266.7075244661247</td><td>-5.06078147798198</td><td>266.70752428263074</td><td>-5.060781194306789</td><td>2.7777777777777776e-07</td><td>2.7777777777777776e-07</td></tr>\n",
       "<tr><td>1.49775</td><td>266.70752446596657</td><td>-5.060781478029314</td><td>266.70752495581513</td><td>-5.060781417629861</td><td>2.7777777777777776e-07</td><td>2.7777777777777776e-07</td></tr>\n",
       "<tr><td>1.498125</td><td>266.7075244658086</td><td>-5.060781478076649</td><td>266.7075246765155</td><td>-5.0607811910768215</td><td>2.7777777777777776e-07</td><td>2.7777777777777776e-07</td></tr>\n",
       "<tr><td>1.4985</td><td>266.7075244656509</td><td>-5.060781478123985</td><td>266.7075246274467</td><td>-5.060781260344394</td><td>2.7777777777777776e-07</td><td>2.7777777777777776e-07</td></tr>\n",
       "<tr><td>1.498875</td><td>266.70752446549335</td><td>-5.060781478171321</td><td>266.7075240190948</td><td>-5.0607815790298</td><td>2.7777777777777776e-07</td><td>2.7777777777777776e-07</td></tr>\n",
       "<tr><td>1.49925</td><td>266.70752446533595</td><td>-5.060781478218659</td><td>266.7075243567912</td><td>-5.060781553903769</td><td>2.7777777777777776e-07</td><td>2.7777777777777776e-07</td></tr>\n",
       "<tr><td>1.499625</td><td>266.7075244651787</td><td>-5.060781478265996</td><td>266.70752478304547</td><td>-5.0607813972348</td><td>2.7777777777777776e-07</td><td>2.7777777777777776e-07</td></tr>\n",
       "<tr><td>1.5</td><td>266.7075244650218</td><td>-5.060781478313336</td><td>266.7075243753218</td><td>-5.060781406064654</td><td>2.7777777777777776e-07</td><td>2.7777777777777776e-07</td></tr>\n",
       "</table>"
      ],
      "text/plain": [
       "<Table length=8001>\n",
       "        t             lambda_true     ...       beta_error      \n",
       "        yr                deg         ...          deg          \n",
       "     float64            float64       ...        float64        \n",
       "------------------ ------------------ ... ----------------------\n",
       "              -1.5  266.7075257568485 ... 2.7777777777777776e-07\n",
       "         -1.499625  266.7075257566917 ... 2.7777777777777776e-07\n",
       "          -1.49925 266.70752575653506 ... 2.7777777777777776e-07\n",
       "         -1.498875 266.70752575637863 ... 2.7777777777777776e-07\n",
       "           -1.4985 266.70752575622237 ... 2.7777777777777776e-07\n",
       "         -1.498125 266.70752575606633 ... 2.7777777777777776e-07\n",
       "          -1.49775  266.7075257559104 ... 2.7777777777777776e-07\n",
       "         -1.497375  266.7075257557547 ... 2.7777777777777776e-07\n",
       "            -1.497  266.7075257555992 ... 2.7777777777777776e-07\n",
       "               ...                ... ...                    ...\n",
       "1.4966249999999999  266.7075244664415 ... 2.7777777777777776e-07\n",
       "1.4969999999999999   266.707524466283 ... 2.7777777777777776e-07\n",
       "          1.497375  266.7075244661247 ... 2.7777777777777776e-07\n",
       "           1.49775 266.70752446596657 ... 2.7777777777777776e-07\n",
       "          1.498125  266.7075244658086 ... 2.7777777777777776e-07\n",
       "            1.4985  266.7075244656509 ... 2.7777777777777776e-07\n",
       "          1.498875 266.70752446549335 ... 2.7777777777777776e-07\n",
       "           1.49925 266.70752446533595 ... 2.7777777777777776e-07\n",
       "          1.499625  266.7075244651787 ... 2.7777777777777776e-07\n",
       "               1.5  266.7075244650218 ... 2.7777777777777776e-07"
      ]
     },
     "execution_count": 29,
     "metadata": {},
     "output_type": "execute_result"
    }
   ],
   "source": [
    "table1"
   ]
  },
  {
   "cell_type": "code",
   "execution_count": 33,
   "metadata": {},
   "outputs": [
    {
     "data": {
      "image/png": "[encoded data removed]",
      "text/plain": [
       "<Figure size 432x288 with 1 Axes>"
      ]
     },
     "metadata": {
      "needs_background": "light"
     },
     "output_type": "display_data"
    }
   ],
   "source": [
    "\n",
    "integer_lon = numpy.min(numpy.floor(table1['lambda']/(u.deg/3600/1000)))\n",
    "integer_lat = numpy.min(numpy.floor(table1['beta'  ]/(u.deg/3600/1000)))\n",
    "\n",
    "\n",
    "pyplot.plot(table1['lambda']/(u.deg/3600/1000) - integer_lon, \n",
    "            table1['beta'  ]/(u.deg/3600/1000) - integer_lat, '.', alpha=0.05)\n",
    "#pyplot.plot(table1['lambda']/(u.deg/3600/1000) - integer_lon, \n",
    "#            table1['beta'  ]/(u.deg/3600/1000) - integer_lat, 'k-')\n",
    "\n",
    "pyplot.plot(table1['lambda_true']/(u.deg/3600/1000) - integer_lon, \n",
    "            table1['beta_true'  ]/(u.deg/3600/1000) - integer_lat, 'k-')\n",
    "\n",
    "pyplot.xlabel(r'$\\lambda/\\mathrm{mas} - (%d)$' % (integer_lon), fontsize=20)\n",
    "pyplot.ylabel(r'$\\beta  /\\mathrm{mas} - (%d)$' % (integer_lat), fontsize=20)\n",
    "pyplot.title('HeliocentricTrueEcliptic')\n",
    "\n",
    "#pyplot.savefig('fig_datasigma_coord_%d_uas')\n",
    "pyplot.show()\n",
    "\n"
   ]
  },
  {
   "cell_type": "code",
   "execution_count": null,
   "metadata": {},
   "outputs": [],
   "source": []
  },
  {
   "cell_type": "code",
   "execution_count": 34,
   "metadata": {},
   "outputs": [
    {
     "name": "stdout",
     "output_type": "stream",
     "text": [
      "total 5816\r\n",
      "-rw-r--r--  1 kohei  staff   96359 Feb  2 22:05 1_make_mock_data-Copy1.ipynb\r\n",
      "-rw-r--r--  1 kohei  staff  506755 Feb  3 06:57 1_make_mock_data-Copy2.ipynb\r\n",
      "-rw-r--r--  1 kohei  staff  663763 Feb  3 08:57 1_make_mock_data-Copy3.ipynb\r\n",
      "-rw-r--r--  1 kohei  staff  663763 Feb  3 09:10 1_make_mock_data-Copy4.ipynb\r\n",
      "-rw-r--r--  1 kohei  staff  506322 Feb  2 23:05 1_make_mock_data.ipynb\r\n",
      "-rw-r--r--  1 kohei  staff    8640 Feb  2 22:29 table1.fits\r\n",
      "-rw-r--r--  1 kohei  staff    8640 Feb  2 23:15 table1_sigma_coord.fits\r\n",
      "-rw-r--r--  1 kohei  staff  455040 Feb  3 09:11 table1_sigma_coord_1000_uas.fits\r\n",
      "-rw-r--r--  1 kohei  staff   28800 Feb  3 07:53 table1_sigma_coord_125_uas.fits\r\n",
      "-rw-r--r--  1 kohei  staff    8640 Feb  2 23:17 table1_sigma_coord_25_uas.fits\r\n"
     ]
    }
   ],
   "source": [
    "!ls -l"
   ]
  },
  {
   "cell_type": "markdown",
   "metadata": {},
   "source": [
    "# Fit data"
   ]
  },
  {
   "cell_type": "code",
   "execution_count": 35,
   "metadata": {},
   "outputs": [],
   "source": [
    "def model(lon, lat, plx, pm_lon_coslat, pm_lat):\n",
    "    \n",
    "    data_time   = table1['t'] ## yr\n",
    "    data_LonSun = 2.*numpy.pi * (data_time/u.yr) * u.radian ## radian\n",
    "    \n",
    "    #gc = get_6Dgalcen_from_astrometry(lon, lat, plx, pm_lon_coslat, pm_lat, HRV, frame='heliocentrictrueecliptic')\n",
    "    \n",
    "    model_HTE_lon = \\\n",
    "               lon*u.deg \\\n",
    "             + pm_lon_coslat*(u.mas/u.yr) * data_time \\\n",
    "             + plx*u.mas \\\n",
    "             * numpy.sin(data_LonSun - lon*u.deg)\n",
    "\n",
    "    model_HTE_lat = \\\n",
    "               lat*u.deg \\\n",
    "             + pm_lat*(u.mas/u.yr) * data_time \\\n",
    "             - plx*u.mas \\\n",
    "             * numpy.cos(data_LonSun - lon*u.deg) \\\n",
    "             * numpy.sin(              lat*u.deg) \n",
    "\n",
    "    return model_HTE_lon, model_HTE_lat\n",
    "\n",
    "\n"
   ]
  },
  {
   "cell_type": "code",
   "execution_count": 36,
   "metadata": {},
   "outputs": [],
   "source": [
    "def log_prior(theta):\n",
    "    lon, lat, plx, pm_lon_coslat, pm_lat = theta\n",
    "    if (250 < lon < 280) * (-90 < lat < 90) :\n",
    "        return 0.0\n",
    "    return -numpy.inf"
   ]
  },
  {
   "cell_type": "code",
   "execution_count": 37,
   "metadata": {},
   "outputs": [],
   "source": [
    "def log_likelihood(theta):\n",
    "    lon, lat, plx, pm_lon_coslat, pm_lat = theta\n",
    "    model_HTE_lon, model_HTE_lat = model(lon, lat, plx, pm_lon_coslat, pm_lat)\n",
    "    sigma2 = (table1['lambda_error']/u.deg) ** 2 \n",
    "    \n",
    "    lnL_lon = -0.5 * numpy.sum((table1['lambda']/u.deg - model_HTE_lon/u.deg) ** 2 / sigma2 + numpy.log(sigma2))\n",
    "    lnL_lat = -0.5 * numpy.sum((table1['beta'  ]/u.deg - model_HTE_lat/u.deg) ** 2 / sigma2 + numpy.log(sigma2))\n",
    "    \n",
    "    \n",
    "    return lnL_lon+lnL_lat"
   ]
  },
  {
   "cell_type": "code",
   "execution_count": 38,
   "metadata": {},
   "outputs": [],
   "source": [
    "def log_probability(theta):\n",
    "    lp = log_prior(theta)\n",
    "    if not numpy.isfinite(lp):\n",
    "        return -numpy.inf\n",
    "    return lp + log_likelihood(theta)"
   ]
  },
  {
   "cell_type": "code",
   "execution_count": 39,
   "metadata": {},
   "outputs": [],
   "source": [
    "theta=\\\n",
    "numpy.array([\\\n",
    "HelTrueEcl_coord_bulge.lon / u.deg, \n",
    "HelTrueEcl_coord_bulge.lat / u.deg, \n",
    "1./(HelTrueEcl_coord_bulge.distance    / u.kpc), \n",
    "HelTrueEcl_coord_bulge.pm_lon_coslat   / (u.mas/u.yr), \n",
    "HelTrueEcl_coord_bulge.pm_lat          / (u.mas/u.yr) ])"
   ]
  },
  {
   "cell_type": "code",
   "execution_count": 40,
   "metadata": {},
   "outputs": [
    {
     "name": "stdout",
     "output_type": "stream",
     "text": [
      "233574.8701985289 233574.8701985289\n"
     ]
    }
   ],
   "source": [
    "print(log_likelihood(theta), log_probability(theta))"
   ]
  },
  {
   "cell_type": "code",
   "execution_count": 43,
   "metadata": {},
   "outputs": [],
   "source": [
    "from scipy.optimize import minimize\n",
    "\n",
    "nll = lambda *args: -log_likelihood(*args)\n",
    "initial = numpy.array([266, -5, 0.1, -1, -1 ]) \n",
    "soln = minimize(nll, initial)"
   ]
  },
  {
   "cell_type": "code",
   "execution_count": 44,
   "metadata": {},
   "outputs": [
    {
     "name": "stdout",
     "output_type": "stream",
     "text": [
      "      fun: -232183.34670324015\n",
      " hess_inv: array([[ 9.27890548e-18, -2.24280676e-20,  1.81396595e-17,\n",
      "         2.70269065e-20, -3.79923941e-16],\n",
      "       [-2.24280690e-20,  9.64702691e-18, -1.36549352e-17,\n",
      "         4.81765725e-17,  2.86393452e-16],\n",
      "       [ 1.81396595e-17, -1.36549353e-17,  1.40989341e-10,\n",
      "        -5.01327644e-17, -8.13439743e-10],\n",
      "       [ 1.63919677e-20,  4.80523791e-17, -5.00673630e-17,\n",
      "         5.73027611e-16,  3.93387307e-17],\n",
      "       [-3.79923940e-16,  2.86393453e-16, -8.13439743e-10,\n",
      "         3.58338563e-17,  6.38713033e-08]])\n",
      "      jac: array([ 5.69251291e+07, -4.60308302e+06,  1.33007812e+01,  4.08685938e+03,\n",
      "       -5.05996094e+01])\n",
      "  message: 'Desired error not necessarily achieved due to precision loss.'\n",
      "     nfev: 641\n",
      "      nit: 17\n",
      "     njev: 105\n",
      "   status: 2\n",
      "  success: False\n",
      "        x: array([ 2.66707525e+02, -5.06078126e+00,  1.43185564e-01, -8.71669793e-01,\n",
      "       -5.37603035e-01])\n"
     ]
    }
   ],
   "source": [
    "print(soln)"
   ]
  },
  {
   "cell_type": "code",
   "execution_count": 45,
   "metadata": {},
   "outputs": [
    {
     "name": "stdout",
     "output_type": "stream",
     "text": [
      "266.7075251404368 266.7075251446382\n",
      "-5.06078126311954 -5.060781261106182\n",
      "0.14318556380912967 0.12153172999715946\n",
      "-0.8716697925073389 -1.5501921132369663\n",
      "-0.5376030348502163 -0.5217076453629648\n"
     ]
    }
   ],
   "source": [
    "for k in range(5):\n",
    "    print(soln.x[k], theta[k])\n"
   ]
  },
  {
   "cell_type": "code",
   "execution_count": 46,
   "metadata": {},
   "outputs": [
    {
     "name": "stdout",
     "output_type": "stream",
     "text": [
      "The initial locations of 20 walkers\n",
      "[[ 2.66707525e+02 -5.06070448e+00  1.42984200e-01 -8.71832014e-01\n",
      "  -5.37699354e-01]\n",
      " [ 2.66707608e+02 -5.06082788e+00  1.43258363e-01 -8.71766801e-01\n",
      "  -5.37555019e-01]\n",
      " [ 2.66707692e+02 -5.06084938e+00  1.43284203e-01 -8.71499513e-01\n",
      "  -5.37637843e-01]\n",
      " [ 2.66707342e+02 -5.06075847e+00  1.43308247e-01 -8.71801707e-01\n",
      "  -5.37645883e-01]\n",
      " [ 2.66707470e+02 -5.06058740e+00  1.43128853e-01 -8.71776348e-01\n",
      "  -5.37601793e-01]\n",
      " [ 2.66707474e+02 -5.06073939e+00  1.43170832e-01 -8.71920464e-01\n",
      "  -5.37343509e-01]\n",
      " [ 2.66707648e+02 -5.06075968e+00  1.43278457e-01 -8.71757643e-01\n",
      "  -5.37556300e-01]\n",
      " [ 2.66707491e+02 -5.06079178e+00  1.43336964e-01 -8.71713882e-01\n",
      "  -5.37465593e-01]\n",
      " [ 2.66707690e+02 -5.06094480e+00  1.43072173e-01 -8.71533427e-01\n",
      "  -5.37825224e-01]\n",
      " [ 2.66707414e+02 -5.06065748e+00  1.43188256e-01 -8.71583793e-01\n",
      "  -5.37804116e-01]\n",
      " [ 2.66707365e+02 -5.06087430e+00  1.43244272e-01 -8.71585833e-01\n",
      "  -5.37626300e-01]\n",
      " [ 2.66707567e+02 -5.06078377e+00  1.43347151e-01 -8.71755454e-01\n",
      "  -5.37719287e-01]\n",
      " [ 2.66707681e+02 -5.06080715e+00  1.43123909e-01 -8.71511128e-01\n",
      "  -5.37548678e-01]\n",
      " [ 2.66707614e+02 -5.06090035e+00  1.43237551e-01 -8.71659144e-01\n",
      "  -5.37659057e-01]\n",
      " [ 2.66707584e+02 -5.06073144e+00  1.43199156e-01 -8.71525012e-01\n",
      "  -5.37570833e-01]\n",
      " [ 2.66707717e+02 -5.06078661e+00  1.43049117e-01 -8.71508933e-01\n",
      "  -5.37507199e-01]\n",
      " [ 2.66707665e+02 -5.06056553e+00  1.43220307e-01 -8.71620617e-01\n",
      "  -5.37419913e-01]\n",
      " [ 2.66707656e+02 -5.06084467e+00  1.43196420e-01 -8.71605526e-01\n",
      "  -5.37650624e-01]\n",
      " [ 2.66707367e+02 -5.06080731e+00  1.43217258e-01 -8.71576251e-01\n",
      "  -5.37477989e-01]\n",
      " [ 2.66707514e+02 -5.06087406e+00  1.43113890e-01 -8.71637011e-01\n",
      "  -5.37460710e-01]]\n"
     ]
    }
   ],
   "source": [
    "import emcee\n",
    "\n",
    "ndim = 5\n",
    "nwalkers=20\n",
    "\n",
    "pos = soln.x + 1e-4 * numpy.random.randn(nwalkers, ndim)  # Intentionally starting from [-4, 2]\n",
    "#pos = theta + 1e-4 * numpy.random.randn(nwalkers, ndim)  # Intentionally starting from [-4, 2]\n",
    "\n",
    "\n",
    "print('The initial locations of %d walkers' % (nwalkers))\n",
    "print(pos)\n",
    "#pos = soln.x + 1e-4 * np.random.randn(nwalkers, ndim)  # Starting near the optimum solution\n",
    "nwalkers, ndim = pos.shape\n",
    "\n",
    "sampler = emcee.EnsembleSampler(\n",
    "    nwalkers, ndim, log_probability \n",
    ")\n",
    "sampler.run_mcmc(pos, 5000);"
   ]
  },
  {
   "cell_type": "code",
   "execution_count": 47,
   "metadata": {},
   "outputs": [
    {
     "data": {
      "text/plain": [
       "<emcee.ensemble.EnsembleSampler at 0x124af2dd8>"
      ]
     },
     "execution_count": 47,
     "metadata": {},
     "output_type": "execute_result"
    }
   ],
   "source": [
    "sampler\n"
   ]
  },
  {
   "cell_type": "code",
   "execution_count": null,
   "metadata": {},
   "outputs": [],
   "source": [
    "fig, axes = pyplot.subplots(ndim+1, figsize=(10, 7), sharex=True)\n",
    "#samples = sampler.get_chain()\n",
    "#samples_ln_prob = sampler.get_log_prob()\n",
    "#labels = [\"m\", \"b\", ]\n",
    "for i in range(ndim):\n",
    "    ax = axes[i]\n",
    "    ax.plot(sampler.chain[:, :, i], \"k\", alpha=0.3)\n",
    "    ax.set_xlim(100, 5000)\n",
    "    #ax.set_ylabel(labels[i])\n",
    "    #ax.yaxis.set_label_coords(-0.1, 0.5)\n",
    "\n",
    "ax = axes[ndim]\n",
    "ax.plot(sampler.lnprobability.T, \"k\", alpha=0.3)\n",
    "ax.set_ylabel('log prob')\n",
    "\n",
    "axes[-1].set_xlabel(\"step number\");"
   ]
  },
  {
   "cell_type": "code",
   "execution_count": null,
   "metadata": {},
   "outputs": [],
   "source": [
    "sampler.chain[0, 4990, :]"
   ]
  },
  {
   "cell_type": "code",
   "execution_count": null,
   "metadata": {},
   "outputs": [],
   "source": [
    "for k in range(5):\n",
    "    print(theta[k])"
   ]
  },
  {
   "cell_type": "code",
   "execution_count": null,
   "metadata": {},
   "outputs": [],
   "source": [
    "if (True):\n",
    "    burnin = 3800\n",
    "    samples = sampler.chain[:, burnin:, :].reshape((-1, ndim))\n",
    "\n",
    "    delta_coord = _sigma_coord/u.deg\n",
    "    print('delta_coord in deg', delta_coord)\n",
    "    fig = corner.corner(samples, labels=[r'$\\lambda$/deg',r'$\\beta$/deg',r'$\\varpi$/(mas)',r'$\\mu_\\lambda$/(mas/yr)', r'$\\mu_\\beta$/(mas/yr)' ],\n",
    "                        truths=theta, quantiles=[0.16, 0.5, 0.84],\n",
    "                        range=[0.999,\n",
    "                               0.999,\n",
    "                               0.999,0.999,0.999],\n",
    "                        label_kwargs={'fontsize': 21},\n",
    "                        plot_datapoints=False,\n",
    "                        show_titles=True,\n",
    "                        title_args={'fontsize': 8},\n",
    "                        title_fmt='.4f',)\n",
    "    \n",
    "    sigma_lambda   = 0.5*(numpy.percentile(samples[:,0],84)-numpy.percentile(samples[:,0],16))\n",
    "    sigma_beta     = 0.5*(numpy.percentile(samples[:,1],84)-numpy.percentile(samples[:,1],16))\n",
    "    sigma_pi       = 0.5*(numpy.percentile(samples[:,2],84)-numpy.percentile(samples[:,2],16))\n",
    "    sigma_mulambda = 0.5*(numpy.percentile(samples[:,3],84)-numpy.percentile(samples[:,3],16))\n",
    "    sigma_mubeta   = 0.5*(numpy.percentile(samples[:,4],84)-numpy.percentile(samples[:,4],16))\n",
    "\n",
    "\n",
    "\n",
    "\n",
    "    \n",
    "    pyplot.annotate(xy=(0.99,0.9), \n",
    "                    s=r'Number of data points: %d,  obs year span = %d yr' % (len(table1), \n",
    "                                                                              numpy.max(table1['t'])-numpy.min(table1['t'])), \n",
    "                    xycoords='figure fraction', ha='right', fontsize=20)\n",
    "    pyplot.annotate(xy=(0.99,0.85), \n",
    "                    s=r'Data: sigma\\_lambda = sigma\\_beta = %lf mas' % (_sigma_coord_mas), \n",
    "                    xycoords='figure fraction', ha='right', fontsize=20)\n",
    "    pyplot.annotate(xy=(0.99,0.80), \n",
    "                    s=r'MCMC: sigma\\_lambda = %lf mas' % (sigma_lambda), \n",
    "                    xycoords='figure fraction', ha='right',  fontsize=20)\n",
    "    pyplot.annotate(xy=(0.99,0.75), \n",
    "                    s=r'MCMC: sigma\\_beta = %lf mas' % (sigma_beta), \n",
    "                    xycoords='figure fraction', ha='right',  fontsize=20)\n",
    "    pyplot.annotate(xy=(0.99,0.70), \n",
    "                    s=r'MCMC: sigma\\_pi = %lf mas' % (sigma_pi), \n",
    "                    xycoords='figure fraction', ha='right',  fontsize=20)\n",
    "    pyplot.annotate(xy=(0.99,0.65), \n",
    "                    s=r'MCMC: sigma\\_mulambda = %lf mas/yr' % (sigma_mulambda), \n",
    "                    xycoords='figure fraction', ha='right',  fontsize=20)\n",
    "    pyplot.annotate(xy=(0.99,0.60), \n",
    "                    s=r'MCMC: sigma\\_mubeta = %lf mas/yr' % (sigma_mubeta), \n",
    "                    xycoords='figure fraction', ha='right',  fontsize=20)\n",
    "    "
   ]
  },
  {
   "cell_type": "code",
   "execution_count": null,
   "metadata": {},
   "outputs": [],
   "source": [
    "if (True):\n",
    "    burnin = 2500\n",
    "    samples = sampler.chain[:, burnin:, :].reshape((-1, ndim))\n",
    "    samples_new = numpy.array([(samples[:,0]-theta[0])*3600*1000,\n",
    "                               (samples[:,1]-theta[1])*3600*1000,\n",
    "                                samples[:,2],\n",
    "                                samples[:,3],\n",
    "                                samples[:,4]\n",
    "                              ]).T\n",
    "\n",
    "    delta_coord = _sigma_coord/u.deg\n",
    "    print('delta_coord in deg', delta_coord)\n",
    "    fig = corner.corner(samples_new, labels=[r'$(\\lambda-\\lambda_\\mathrm{truth})$/mas',\n",
    "                                             r'$(\\beta-\\beta_\\mathrm{truth})$/mas',\n",
    "                                             r'$\\varpi$/(mas)',\n",
    "                                             r'$\\mu_\\lambda$/(mas/yr)', \n",
    "                                             r'$\\mu_\\beta$/(mas/yr)' ],\n",
    "                        truths=[0,0,theta[2],theta[3],theta[4]],\n",
    "                        quantiles=[0.16, 0.5, 0.84],\n",
    "                        range=[0.999,0.999,\n",
    "                               0.999,0.999,0.999],\n",
    "                        label_kwargs={'fontsize': 21},\n",
    "                        plot_datapoints=False,\n",
    "                        show_titles=True,\n",
    "                        title_args={'fontsize': 8},\n",
    "                        title_fmt='.4f',)\n",
    "    \n",
    "    sigma_lambda   = 0.5*(numpy.percentile(samples_new[:,0],84)-numpy.percentile(samples_new[:,0],16))\n",
    "    sigma_beta     = 0.5*(numpy.percentile(samples_new[:,1],84)-numpy.percentile(samples_new[:,1],16))\n",
    "    sigma_pi       = 0.5*(numpy.percentile(samples_new[:,2],84)-numpy.percentile(samples_new[:,2],16))\n",
    "    sigma_mulambda = 0.5*(numpy.percentile(samples_new[:,3],84)-numpy.percentile(samples_new[:,3],16))\n",
    "    sigma_mubeta   = 0.5*(numpy.percentile(samples_new[:,4],84)-numpy.percentile(samples_new[:,4],16))\n",
    "\n",
    "\n",
    "\n",
    "\n",
    "    \n",
    "    pyplot.annotate(xy=(0.99,0.9), \n",
    "                    s=r'Number of data points: %d,  obs year span = %d yr' % (len(table1), \n",
    "                                                                              numpy.max(table1['t'])-numpy.min(table1['t'])), \n",
    "                    xycoords='figure fraction', ha='right', fontsize=20)\n",
    "    pyplot.annotate(xy=(0.99,0.85), \n",
    "                    s=r'Data: sigma\\_lambda = sigma\\_beta = %lf mas' % (_sigma_coord_mas), \n",
    "                    xycoords='figure fraction', ha='right', fontsize=20)\n",
    "    pyplot.annotate(xy=(0.99,0.80), \n",
    "                    s=r'MCMC: sigma\\_lambda = %lf mas' % (sigma_lambda), \n",
    "                    xycoords='figure fraction', ha='right',  fontsize=20)\n",
    "    pyplot.annotate(xy=(0.99,0.75), \n",
    "                    s=r'MCMC: sigma\\_beta = %lf mas' % (sigma_beta), \n",
    "                    xycoords='figure fraction', ha='right',  fontsize=20)\n",
    "    pyplot.annotate(xy=(0.99,0.70), \n",
    "                    s=r'MCMC: sigma\\_pi = %lf mas' % (sigma_pi), \n",
    "                    xycoords='figure fraction', ha='right',  fontsize=20)\n",
    "    pyplot.annotate(xy=(0.99,0.65), \n",
    "                    s=r'MCMC: sigma\\_mulambda = %lf mas/yr' % (sigma_mulambda), \n",
    "                    xycoords='figure fraction', ha='right',  fontsize=20)\n",
    "    pyplot.annotate(xy=(0.99,0.60), \n",
    "                    s=r'MCMC: sigma\\_mubeta = %lf mas/yr' % (sigma_mubeta), \n",
    "                    xycoords='figure fraction', ha='right',  fontsize=20)\n",
    "    "
   ]
  },
  {
   "cell_type": "code",
   "execution_count": null,
   "metadata": {},
   "outputs": [],
   "source": []
  },
  {
   "cell_type": "code",
   "execution_count": null,
   "metadata": {},
   "outputs": [],
   "source": [
    "\n",
    "integer_lon = numpy.min(numpy.floor(table1['lambda']/(u.deg/3600/1000)))\n",
    "integer_lat = numpy.min(numpy.floor(table1['beta'  ]/(u.deg/3600/1000)))\n",
    "\n",
    "\n",
    "pyplot.plot(table1['lambda']/(u.deg/3600/1000) - integer_lon, \n",
    "            table1['beta'  ]/(u.deg/3600/1000) - integer_lat, '.', alpha=0.1)\n",
    "#pyplot.plot(table1['lambda']/(u.deg/3600/1000) - integer_lon, \n",
    "#            table1['beta'  ]/(u.deg/3600/1000) - integer_lat, 'k-')\n",
    "\n",
    "inds = numpy.random.randint(len(samples), size=20)\n",
    "for ind in inds:\n",
    "    sample = samples[ind]\n",
    "    model_lon, model_lat = model(*sample)\n",
    "    \n",
    "    pyplot.plot(model_lon/(u.deg/3600/1000)-integer_lon, \n",
    "                model_lat/(u.deg/3600/1000)-integer_lat, \"C1\", ls='-', alpha=1)\n",
    "\n",
    "\n",
    "pyplot.plot(table1['lambda_true']/(u.deg/3600/1000) - integer_lon, \n",
    "            table1['beta_true'  ]/(u.deg/3600/1000) - integer_lat, 'k-')\n",
    "\n",
    "pyplot.xlabel(r'$\\lambda/\\mathrm{mas} - (%d)$' % (integer_lon), fontsize=20)\n",
    "pyplot.ylabel(r'$\\beta  /\\mathrm{mas} - (%d)$' % (integer_lat), fontsize=20)\n",
    "pyplot.title('HeliocentricTrueEcliptic')\n",
    "\n",
    "\n",
    "#pyplot.savefig('fig_datasigma_coord_%d_uas')\n",
    "pyplot.show()\n",
    "\n",
    "\n"
   ]
  },
  {
   "cell_type": "code",
   "execution_count": 97,
   "metadata": {},
   "outputs": [
    {
     "data": {
      "text/plain": [
       "0.125"
      ]
     },
     "execution_count": 97,
     "metadata": {},
     "output_type": "execute_result"
    }
   ],
   "source": [
    "_sigma_coord_mas"
   ]
  },
  {
   "cell_type": "code",
   "execution_count": 213,
   "metadata": {},
   "outputs": [],
   "source": [
    "\"\"\"\n",
    "print('HeliocentricTrueEcliptic')\n",
    "print('lon  ', HelTrueEcl_coord_bulge.lon / u.deg)\n",
    "print('lat  ', HelTrueEcl_coord_bulge.lat / u.deg)\n",
    "print('dist ', HelTrueEcl_coord_bulge.distance / u.kpc)\n",
    "print('pmlon', HelTrueEcl_coord_bulge.pm_lon_coslat / (u.mas/u.yr))\n",
    "print('pmlat', HelTrueEcl_coord_bulge.pm_lat  / (u.mas/u.yr))\n",
    "print('HRV  ', HelTrueEcl_coord_bulge.radial_velocity / (u.km / u.s))\n",
    "\"\"\"\n",
    "model_HTE_lon, model_HTE_lat = \\\n",
    "model(HelTrueEcl_coord_bulge.lon / u.deg, \n",
    "      HelTrueEcl_coord_bulge.lat / u.deg, \n",
    "      1./(HelTrueEcl_coord_bulge.distance    / u.kpc), \n",
    "      HelTrueEcl_coord_bulge.pm_lon_coslat   / (u.mas/u.yr), \n",
    "      HelTrueEcl_coord_bulge.pm_lat          / (u.mas/u.yr) )"
   ]
  },
  {
   "cell_type": "code",
   "execution_count": 194,
   "metadata": {},
   "outputs": [
    {
     "data": {
      "text/plain": [
       "[<matplotlib.lines.Line2D at 0x126178c50>]"
      ]
     },
     "execution_count": 194,
     "metadata": {},
     "output_type": "execute_result"
    },
    {
     "data": {
      "image/png": "[encoded data removed]",
      "text/plain": [
       "<Figure size 432x288 with 1 Axes>"
      ]
     },
     "metadata": {
      "needs_background": "light"
     },
     "output_type": "display_data"
    }
   ],
   "source": [
    "pyplot.plot(model_HTE_lon - table1['lambda_true'])\n"
   ]
  },
  {
   "cell_type": "code",
   "execution_count": 197,
   "metadata": {},
   "outputs": [
    {
     "name": "stdout",
     "output_type": "stream",
     "text": [
      "266.7075260396\n"
     ]
    }
   ],
   "source": [
    "print('%.10lf' % (model_HTE_lon[0]/u.deg ))"
   ]
  },
  {
   "cell_type": "code",
   "execution_count": 198,
   "metadata": {},
   "outputs": [
    {
     "name": "stdout",
     "output_type": "stream",
     "text": [
      "266.7075256090\n"
     ]
    }
   ],
   "source": [
    "print('%.10lf' % (model_HTE_lon[10]/u.deg ))"
   ]
  },
  {
   "cell_type": "code",
   "execution_count": 200,
   "metadata": {},
   "outputs": [
    {
     "data": {
      "text/plain": [
       "[<matplotlib.lines.Line2D at 0x125ef9cc0>]"
      ]
     },
     "execution_count": 200,
     "metadata": {},
     "output_type": "execute_result"
    },
    {
     "data": {
      "image/png": "[encoded data removed]",
      "text/plain": [
       "<Figure size 432x288 with 1 Axes>"
      ]
     },
     "metadata": {
      "needs_background": "light"
     },
     "output_type": "display_data"
    }
   ],
   "source": [
    "pyplot.plot(model_HTE_lat - table1['beta_true'])"
   ]
  },
  {
   "cell_type": "code",
   "execution_count": 210,
   "metadata": {},
   "outputs": [
    {
     "name": "stdout",
     "output_type": "stream",
     "text": [
      "0.0000000000000000\n",
      "0.0000000000000000\n",
      "0.0000000000000000\n",
      "0.0000000000000000\n",
      "0.0000000000000000\n",
      "0.0000000000000000\n",
      "0.0000000000000000\n",
      "0.0000000000000000\n",
      "0.0000000000000000\n",
      "0.0000000000000000\n",
      "0.0000000000000000\n",
      "0.0000000000000000\n",
      "0.0000000000000000\n",
      "0.0000000000000000\n",
      "0.0000000000000000\n",
      "0.0000000000000000\n",
      "0.0000000000000000\n",
      "0.0000000000000000\n",
      "0.0000000000000000\n",
      "0.0000000000000000\n",
      "0.0000000000000000\n"
     ]
    }
   ],
   "source": [
    "for i in range(21):\n",
    "    print('%.16lf' % (model_HTE_lat[i]/u.deg - table1['beta_true'][i]))"
   ]
  },
  {
   "cell_type": "code",
   "execution_count": null,
   "metadata": {},
   "outputs": [],
   "source": []
  }
 ],
 "metadata": {
  "kernelspec": {
   "display_name": "Python 3",
   "language": "python",
   "name": "python3"
  },
  "language_info": {
   "codemirror_mode": {
    "name": "ipython",
    "version": 3
   },
   "file_extension": ".py",
   "mimetype": "text/x-python",
   "name": "python",
   "nbconvert_exporter": "python",
   "pygments_lexer": "ipython3",
   "version": "3.6.8"
  },
  "toc": {
   "base_numbering": 1,
   "nav_menu": {},
   "number_sections": true,
   "sideBar": true,
   "skip_h1_title": false,
   "title_cell": "Table of Contents",
   "title_sidebar": "Contents",
   "toc_cell": false,
   "toc_position": {
    "height": "calc(100% - 180px)",
    "left": "10px",
    "top": "150px",
    "width": "322.1875px"
   },
   "toc_section_display": true,
   "toc_window_display": true
  }
 },
 "nbformat": 4,
 "nbformat_minor": 2
}
